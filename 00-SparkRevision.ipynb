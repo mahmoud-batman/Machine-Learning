{
 "cells": [
  {
   "cell_type": "markdown",
   "metadata": {
    "slideshow": {
     "slide_type": "slide"
    }
   },
   "source": [
    "# Spark Revision\n",
    "----------------------------------\n",
    "## The low level APIs"
   ]
  },
  {
   "cell_type": "markdown",
   "metadata": {},
   "source": [
    "** RDDs are now the low-level API. **\n",
    "- In the early spark releases RDDs where the main API for handling data. In the most recent versions of Spark, <font color=\"red\"> it is considered a Low-level API!!</font> \n",
    "- Structured APIs, instead, Dataframe, Datasets and SparkSQL are what most users should use regularly to manipulate their data.\n",
    "- All Spark workloads compile now to the RDD fundamental primitives.\n",
    "- The authors of Spark recommd that you start with Structured APIs for better productivity.\n",
    "\n",
    "\n",
    "** When to to use low level APIs? **\n",
    "- If you need some functionality that you cannot find in the higher level APIs (e.g. custom partitioner). This is naturally the exception.\n",
    "- You need to maintain some legacy codebase that runs on RDDs.\n",
    "\n",
    "** Programming Language difference **.\n",
    "- When you use RDDs, Python or R are slow because conversion is done from Python/R  objects to java objects.\n",
    "- Therfore Java and scala are faster when using RDDs\n",
    "- When you use Dataframes or Datasets, no conversion happens, thus all languages have the same performance.\n"
   ]
  },
  {
   "cell_type": "markdown",
   "metadata": {},
   "source": [
    "# The Spark Context\n",
    "- A SparkContext instance is the conncetion a the Spark cluster to create RDDs, accummulators & brodcast variables\n",
    "- In old versions of Spark there used to be 2 different contexts, SparkContext and SQLContext\n",
    "- Now we have SparkSeq\n",
    "\n",
    "<font color='red'>** IMPORTANT:if you the following code twice, you get an error, because the context can not launch multipole times. In case of trouble, from the menu choose kernel->restart** </font>"
   ]
  },
  {
   "cell_type": "code",
   "execution_count": 2,
   "metadata": {
    "collapsed": true
   },
   "outputs": [],
   "source": [
    "#These are some printing helper functions we will use to make the output more clear\n",
    "def title(s):\n",
    "    print(\"---- %s -----\" %s)    \n",
    "    \n",
    "def see(s, v):\n",
    "    print(\"---- %s -----\" %s)\n",
    "    print(v)"
   ]
  },
  {
   "cell_type": "code",
   "execution_count": 3,
   "metadata": {
    "collapsed": true,
    "slideshow": {
     "slide_type": "subslide"
    }
   },
   "outputs": [],
   "source": [
    "from pyspark import SparkContext, SparkConf\n",
    "myconf = SparkConf() \\\n",
    "        .setMaster(\"local[*]\") \n",
    "        #.set(\"spark.driver.cores\",4) \\\n",
    "        #.set(\"spark.executor.memory\",\"2g\") \n",
    "sc = SparkContext(conf=myconf)"
   ]
  },
  {
   "cell_type": "markdown",
   "metadata": {
    "slideshow": {
     "slide_type": "subslide"
    }
   },
   "source": [
    "# Resilient Distributed Datasets (RDDs)\n",
    "\n",
    "- Immutable, partitioned collectioin of elements that can be operated in parallel\n",
    "- Dataframes and Datasets compile downn to an RDD\n",
    "\n",
    "------------------\n",
    "Each RDD is characterized by five main properties:\n",
    "- A list of partitions\n",
    "- A function for computing each split\n",
    "- A list of dependecies on other RDDs\n",
    "- A partitioner for key-value RDDs (e.g. a hash partitioner)\n",
    "- Optionally, a list of preferred locations to cpmuter each split on\n",
    "\n",
    "# Creating RDDS\n",
    "- from memory\n",
    "- from files"
   ]
  },
  {
   "cell_type": "code",
   "execution_count": 4,
   "metadata": {
    "slideshow": {
     "slide_type": "slide"
    }
   },
   "outputs": [
    {
     "name": "stdout",
     "output_type": "stream",
     "text": [
      "PythonRDD[2] at RDD at PythonRDD.scala:48\n",
      "ParallelCollectionRDD[1] at parallelize at PythonRDD.scala:480\n"
     ]
    }
   ],
   "source": [
    "# from memory\n",
    "nums = sc.parallelize(range(10000))\n",
    "animals = sc.parallelize([\"cat\", \"dog\", \"lion\", \"bear\", \"fox\"])\n",
    "\n",
    "print(nums)\n",
    "print(animals)"
   ]
  },
  {
   "cell_type": "code",
   "execution_count": 5,
   "metadata": {},
   "outputs": [
    {
     "data": {
      "text/plain": [
       "../data/flight-data/csv/2015-summary.csv MapPartitionsRDD[4] at textFile at NativeMethodAccessorImpl.java:0"
      ]
     },
     "execution_count": 5,
     "metadata": {},
     "output_type": "execute_result"
    }
   ],
   "source": [
    "#from file\n",
    "fileName = \"../data/flight-data/csv/2015-summary.csv\"\n",
    "fileRDD =sc.textFile(fileName)\n",
    "fileRDD"
   ]
  },
  {
   "cell_type": "markdown",
   "metadata": {},
   "source": [
    "# RDD operations:\n",
    "1. actions \n",
    "2. transformations\n",
    "------------------"
   ]
  },
  {
   "cell_type": "markdown",
   "metadata": {},
   "source": [
    "## RDD operations - Actions (**trigger work**)"
   ]
  },
  {
   "cell_type": "code",
   "execution_count": 6,
   "metadata": {},
   "outputs": [
    {
     "data": {
      "text/plain": [
       "['cat', 'dog', 'lion', 'bear', 'fox']"
      ]
     },
     "execution_count": 6,
     "metadata": {},
     "output_type": "execute_result"
    }
   ],
   "source": [
    "animals.collect()"
   ]
  },
  {
   "cell_type": "code",
   "execution_count": 7,
   "metadata": {},
   "outputs": [
    {
     "data": {
      "text/plain": [
       "10000"
      ]
     },
     "execution_count": 7,
     "metadata": {},
     "output_type": "execute_result"
    }
   ],
   "source": [
    "nums.count()"
   ]
  },
  {
   "cell_type": "code",
   "execution_count": 8,
   "metadata": {},
   "outputs": [
    {
     "data": {
      "text/plain": [
       "[0, 1, 2, 3, 4, 5, 6, 7, 8, 9, 10, 11, 12, 13, 14]"
      ]
     },
     "execution_count": 8,
     "metadata": {},
     "output_type": "execute_result"
    }
   ],
   "source": [
    "nums.take(15)"
   ]
  },
  {
   "cell_type": "code",
   "execution_count": 9,
   "metadata": {},
   "outputs": [
    {
     "data": {
      "text/plain": [
       "['DEST_COUNTRY_NAME,ORIGIN_COUNTRY_NAME,count',\n",
       " 'United States,Romania,15',\n",
       " 'United States,Croatia,1',\n",
       " 'United States,Ireland,344',\n",
       " 'Egypt,United States,15',\n",
       " 'United States,India,62',\n",
       " 'United States,Singapore,1',\n",
       " 'United States,Grenada,62',\n",
       " 'Costa Rica,United States,588',\n",
       " 'Senegal,United States,40']"
      ]
     },
     "execution_count": 9,
     "metadata": {},
     "output_type": "execute_result"
    }
   ],
   "source": [
    "fileRDD.take(10)"
   ]
  },
  {
   "cell_type": "code",
   "execution_count": 10,
   "metadata": {
    "collapsed": true
   },
   "outputs": [],
   "source": [
    "#save to a textfile (a folder with many parts is created)\n",
    "#CAREFUL, if the output folder already exists, you need to remove it\n",
    "animals.saveAsTextFile(\"animals2.txt\")"
   ]
  },
  {
   "cell_type": "markdown",
   "metadata": {},
   "source": [
    "## RDD operations -Transformations(**lazy evaluation**)\n",
    "**Remeber**: Transformations are not exectued until an action triggers them"
   ]
  },
  {
   "cell_type": "code",
   "execution_count": 11,
   "metadata": {},
   "outputs": [
    {
     "data": {
      "text/plain": [
       "[0, 1, 4, 9, 16, 25, 36, 49, 64, 81]"
      ]
     },
     "execution_count": 11,
     "metadata": {},
     "output_type": "execute_result"
    }
   ],
   "source": [
    "#Map\n",
    "\"\"\"Square the numbers\"\"\"\n",
    "squared = nums.map(lambda x: x * x)\n",
    "squared.take(10)"
   ]
  },
  {
   "cell_type": "code",
   "execution_count": 12,
   "metadata": {},
   "outputs": [
    {
     "data": {
      "text/plain": [
       "['Egypt,United States,15', 'United States,Egypt,12']"
      ]
     },
     "execution_count": 12,
     "metadata": {},
     "output_type": "execute_result"
    }
   ],
   "source": [
    "#filter\n",
    "egyptRDD = fileRDD.filter(lambda x: \"Egypt\" in x)\n",
    "egyptRDD.collect()"
   ]
  },
  {
   "cell_type": "markdown",
   "metadata": {},
   "source": [
    "## RDD operations - Passing Functions to Spark"
   ]
  },
  {
   "cell_type": "code",
   "execution_count": 13,
   "metadata": {},
   "outputs": [
    {
     "data": {
      "text/plain": [
       "['United States,Romania,15',\n",
       " 'United States,Croatia,1',\n",
       " 'United States,Ireland,344',\n",
       " 'Egypt,United States,15',\n",
       " 'United States,India,62']"
      ]
     },
     "execution_count": 13,
     "metadata": {},
     "output_type": "execute_result"
    }
   ],
   "source": [
    "\n",
    "def containsUS(line): \n",
    "    return \"United States\" in line\n",
    "\n",
    "usRDD = fileRDD.filter(containsUS)\n",
    "usRDD.take(5)"
   ]
  },
  {
   "cell_type": "markdown",
   "metadata": {},
   "source": [
    "# RDD operations - Common Transformations\n",
    "- flatMap\n",
    "- dictinct\n",
    "- sample\n",
    "- union\n",
    "- intersect\n",
    "- subtract\n",
    "- cartesian\n",
    "- zip"
   ]
  },
  {
   "cell_type": "code",
   "execution_count": 14,
   "metadata": {},
   "outputs": [
    {
     "name": "stdout",
     "output_type": "stream",
     "text": [
      "775\n"
     ]
    },
    {
     "data": {
      "text/plain": [
       "['DEST_COUNTRY_NAME',\n",
       " 'ORIGIN_COUNTRY_NAME',\n",
       " 'count',\n",
       " 'United States',\n",
       " 'Romania',\n",
       " '15',\n",
       " 'United States',\n",
       " 'Croatia',\n",
       " '1',\n",
       " 'United States']"
      ]
     },
     "execution_count": 14,
     "metadata": {},
     "output_type": "execute_result"
    }
   ],
   "source": [
    "# flatMap\n",
    "words = fileRDD.flatMap(lambda line: line.split(\",\")) \n",
    "print(words.count())\n",
    "words.take(10)"
   ]
  },
  {
   "cell_type": "code",
   "execution_count": 15,
   "metadata": {},
   "outputs": [
    {
     "data": {
      "text/plain": [
       "305"
      ]
     },
     "execution_count": 15,
     "metadata": {},
     "output_type": "execute_result"
    }
   ],
   "source": [
    "# distinct\n",
    "words.distinct().count()"
   ]
  },
  {
   "cell_type": "code",
   "execution_count": 16,
   "metadata": {},
   "outputs": [
    {
     "name": "stdout",
     "output_type": "stream",
     "text": [
      "22\n"
     ]
    },
    {
     "data": {
      "text/plain": [
       "[7,\n",
       " 9,\n",
       " 11,\n",
       " 19,\n",
       " 22,\n",
       " 23,\n",
       " 30,\n",
       " 34,\n",
       " 39,\n",
       " 41,\n",
       " 44,\n",
       " 47,\n",
       " 50,\n",
       " 53,\n",
       " 62,\n",
       " 66,\n",
       " 70,\n",
       " 78,\n",
       " 79,\n",
       " 85,\n",
       " 94,\n",
       " 98]"
      ]
     },
     "execution_count": 16,
     "metadata": {},
     "output_type": "execute_result"
    }
   ],
   "source": [
    "# sample\n",
    "mysample = sc.parallelize(range(100)).sample(withReplacement=False, fraction=0.2, seed=17)\n",
    "print(mysample.count())\n",
    "mysample.collect()"
   ]
  },
  {
   "cell_type": "code",
   "execution_count": 17,
   "metadata": {},
   "outputs": [
    {
     "name": "stdout",
     "output_type": "stream",
     "text": [
      "[1, 2, 3]\n",
      "[3, 4, 5]\n",
      "union: [1, 2, 3, 3, 4, 5]\n",
      "intersection:[3] \n",
      "subtract: [1, 2]\n",
      "cartesian: [(1, 3), (1, 4), (1, 5), (2, 3), (2, 4), (2, 5), (3, 3), (3, 4), (3, 5)]\n"
     ]
    }
   ],
   "source": [
    "#union, intrsection, subtract, catesian\n",
    "a = sc.parallelize([1,2,3])\n",
    "b = sc.parallelize([3,4,5])\n",
    "print (a.collect())\n",
    "print (b.collect())\n",
    "print(\"union: %s\" % a.union(b).collect())\n",
    "print(\"intersection:%s \" % a.intersection(b).collect())\n",
    "print(\"subtract: %s\" % a.subtract(b).collect())\n",
    "print(\"cartesian: %s\" % a.cartesian(b).collect())"
   ]
  },
  {
   "cell_type": "markdown",
   "metadata": {},
   "source": [
    "# RDD operations - Common Actions\n",
    "- reduce\n",
    "- fold\n",
    "- combine\n",
    "- aggregate"
   ]
  },
  {
   "cell_type": "code",
   "execution_count": 18,
   "metadata": {},
   "outputs": [
    {
     "data": {
      "text/plain": [
       "49995000"
      ]
     },
     "execution_count": 18,
     "metadata": {},
     "output_type": "execute_result"
    }
   ],
   "source": [
    "#reduce\n",
    "nums.reduce(lambda x,y: x+y)"
   ]
  },
  {
   "cell_type": "code",
   "execution_count": 19,
   "metadata": {},
   "outputs": [
    {
     "name": "stdout",
     "output_type": "stream",
     "text": [
      "[7, 9, 11, 19, 22, 23, 30, 34, 39, 41, 44, 47, 50, 53, 62, 66, 70, 78, 79, 85, 94, 98]\n"
     ]
    },
    {
     "data": {
      "text/plain": [
       "[98, 94, 85]"
      ]
     },
     "execution_count": 19,
     "metadata": {},
     "output_type": "execute_result"
    }
   ],
   "source": [
    "#top\n",
    "print(mysample.collect())\n",
    "mysample.top(3)"
   ]
  },
  {
   "cell_type": "markdown",
   "metadata": {},
   "source": [
    "# Caching"
   ]
  },
  {
   "cell_type": "code",
   "execution_count": 20,
   "metadata": {},
   "outputs": [
    {
     "name": "stdout",
     "output_type": "stream",
     "text": [
      "CPU times: user 13.7 ms, sys: 2.34 ms, total: 16 ms\n",
      "Wall time: 1.75 s\n",
      "----\n",
      "CPU times: user 6.51 ms, sys: 1.61 ms, total: 8.11 ms\n",
      "Wall time: 1.58 s\n",
      "----\n",
      "CPU times: user 7.98 ms, sys: 1.68 ms, total: 9.66 ms\n",
      "Wall time: 1.53 s\n"
     ]
    },
    {
     "data": {
      "text/plain": [
       "2500000"
      ]
     },
     "execution_count": 20,
     "metadata": {},
     "output_type": "execute_result"
    }
   ],
   "source": [
    "X= sc.parallelize(range(5000000),1)\n",
    "even = X.filter(lambda x: x % 2 == 0)\n",
    "squared = even.map(lambda x: x*x)\n",
    "\n",
    "\n",
    "%time squared.count()\n",
    "print(\"----\")\n",
    "%time squared.count()\n",
    "print(\"----\")\n",
    "%time squared.count()"
   ]
  },
  {
   "cell_type": "code",
   "execution_count": 21,
   "metadata": {},
   "outputs": [
    {
     "name": "stdout",
     "output_type": "stream",
     "text": [
      "CPU times: user 4.84 ms, sys: 1.36 ms, total: 6.2 ms\n",
      "Wall time: 1.88 s\n",
      "----\n",
      "CPU times: user 7.69 ms, sys: 2.32 ms, total: 10 ms\n",
      "Wall time: 314 ms\n",
      "----\n",
      "CPU times: user 5.42 ms, sys: 1.37 ms, total: 6.79 ms\n",
      "Wall time: 339 ms\n"
     ]
    },
    {
     "data": {
      "text/plain": [
       "2500000"
      ]
     },
     "execution_count": 21,
     "metadata": {},
     "output_type": "execute_result"
    }
   ],
   "source": [
    "squared.persist()\n",
    "%time squared.count()\n",
    "print(\"----\")\n",
    "%time squared.count()\n",
    "print(\"----\")\n",
    "%time squared.count()"
   ]
  },
  {
   "cell_type": "markdown",
   "metadata": {},
   "source": [
    "# Pair RDDS"
   ]
  },
  {
   "cell_type": "markdown",
   "metadata": {},
   "source": [
    "## Pair RDDS - creation\n",
    "- Simple python typles\n",
    "- all **aggregations** are done on pair RDDs\n",
    "- first item in the tuple is the key\n",
    "- second item is the value\n",
    "- keys are not unique\n",
    "- you might need "
   ]
  },
  {
   "cell_type": "code",
   "execution_count": 22,
   "metadata": {},
   "outputs": [
    {
     "data": {
      "text/plain": [
       "[(0, 597),\n",
       " (1, 597),\n",
       " (2, 597),\n",
       " (3, 597),\n",
       " (4, 585),\n",
       " (5, 597),\n",
       " (6, 597),\n",
       " (7, 597),\n",
       " (8, 597),\n",
       " (9, 585)]"
      ]
     },
     "execution_count": 22,
     "metadata": {},
     "output_type": "execute_result"
    }
   ],
   "source": [
    "''' Creating Pair RDDs, example 1'''\n",
    "from random import randint\n",
    "sc.parallelize(range(10)).map(lambda k: (k, randint(500,600))).collect()"
   ]
  },
  {
   "cell_type": "code",
   "execution_count": 23,
   "metadata": {},
   "outputs": [
    {
     "data": {
      "text/plain": [
       "254"
      ]
     },
     "execution_count": 23,
     "metadata": {},
     "output_type": "execute_result"
    }
   ],
   "source": [
    "''' Creating Pair RDDs, example 2'''\n",
    "file = \"../data/flight-data/csv/2015*\"\n",
    "fileRDD =sc.textFile(file)\n",
    "\n",
    "#Some cleaning and parsing of the data might be needed\n",
    "linesRDD = fileRDD.filter(lambda x:  not x.startswith(\"DEST_\")) \\\n",
    "                  .filter(lambda line: line.count(',')==2)\n",
    "arrRDD = linesRDD.map(lambda line: line.split(\",\"))\n",
    "\n",
    "arrRDD.take(10)\n",
    "arrRDD.count()"
   ]
  },
  {
   "cell_type": "code",
   "execution_count": null,
   "metadata": {
    "collapsed": true
   },
   "outputs": [],
   "source": []
  },
  {
   "cell_type": "markdown",
   "metadata": {},
   "source": [
    "## Pair RDDS - grouping\n",
    "- groupByKey"
   ]
  },
  {
   "cell_type": "code",
   "execution_count": 24,
   "metadata": {},
   "outputs": [
    {
     "data": {
      "text/plain": [
       "[('Ireland', ['United States']),\n",
       " ('United States',\n",
       "  ['Egypt',\n",
       "   'Costa Rica',\n",
       "   'Senegal',\n",
       "   'Moldova',\n",
       "   'Guyana',\n",
       "   'Malta',\n",
       "   'Anguilla',\n",
       "   'Bolivia',\n",
       "   'Algeria',\n",
       "   'Turks and Caicos Islands',\n",
       "   'Saint Vincent and the Grenadines',\n",
       "   'Italy',\n",
       "   'Pakistan',\n",
       "   'Iceland',\n",
       "   'Marshall Islands',\n",
       "   'Luxembourg',\n",
       "   'Honduras',\n",
       "   'The Bahamas',\n",
       "   'El Salvador',\n",
       "   'Samoa',\n",
       "   'Switzerland',\n",
       "   'Sint Maarten',\n",
       "   'Hong Kong',\n",
       "   'Trinidad and Tobago',\n",
       "   'Latvia',\n",
       "   'Suriname',\n",
       "   'Mexico',\n",
       "   'Ecuador',\n",
       "   'Colombia',\n",
       "   'Norway',\n",
       "   'Thailand',\n",
       "   'Venezuela',\n",
       "   'Panama',\n",
       "   'Antigua and Barbuda',\n",
       "   'Morocco',\n",
       "   'Azerbaijan',\n",
       "   'New Zealand',\n",
       "   'Liberia',\n",
       "   'Hungary',\n",
       "   'Burkina Faso',\n",
       "   'Sweden',\n",
       "   'Israel',\n",
       "   'United States',\n",
       "   'Ethiopia',\n",
       "   'Martinique',\n",
       "   'Saint Barthelemy',\n",
       "   'Barbados',\n",
       "   'Djibouti',\n",
       "   'Germany',\n",
       "   'Ireland',\n",
       "   'Zambia',\n",
       "   'Malaysia',\n",
       "   'Croatia',\n",
       "   'Cyprus',\n",
       "   'Fiji',\n",
       "   'Qatar',\n",
       "   'Saint Kitts and Nevis',\n",
       "   'Kuwait',\n",
       "   'Taiwan',\n",
       "   'Haiti',\n",
       "   'Canada',\n",
       "   'Federated States of Micronesia',\n",
       "   'Jamaica',\n",
       "   'Dominican Republic',\n",
       "   'Japan',\n",
       "   'Finland',\n",
       "   'Aruba',\n",
       "   'French Guiana',\n",
       "   'India',\n",
       "   'British Virgin Islands',\n",
       "   'Brazil',\n",
       "   'French Polynesia',\n",
       "   'United Arab Emirates',\n",
       "   'Singapore',\n",
       "   'Netherlands',\n",
       "   'Denmark',\n",
       "   'China',\n",
       "   'Cayman Islands',\n",
       "   'Argentina',\n",
       "   'Peru',\n",
       "   'South Africa',\n",
       "   'Spain',\n",
       "   'Bermuda',\n",
       "   'Kiribati',\n",
       "   'Saudi Arabia',\n",
       "   'Czech Republic',\n",
       "   'Belgium',\n",
       "   'Curacao',\n",
       "   'Georgia',\n",
       "   'Philippines',\n",
       "   'Grenada',\n",
       "   'Cape Verde',\n",
       "   \"Cote d'Ivoire\",\n",
       "   'Ukraine',\n",
       "   'Russia',\n",
       "   'Guatemala',\n",
       "   'Saint Lucia',\n",
       "   'Paraguay',\n",
       "   'Kosovo',\n",
       "   'Tunisia',\n",
       "   'Niger',\n",
       "   'Turkey',\n",
       "   'United Kingdom',\n",
       "   'Romania',\n",
       "   'Papua New Guinea',\n",
       "   'Iraq',\n",
       "   'Cuba',\n",
       "   'Dominica',\n",
       "   'Portugal',\n",
       "   'Bahrain',\n",
       "   'Indonesia',\n",
       "   'Belize',\n",
       "   'Nicaragua',\n",
       "   'Austria',\n",
       "   'Jordan',\n",
       "   'Palau',\n",
       "   'South Korea',\n",
       "   'Angola',\n",
       "   'Ghana',\n",
       "   'New Caledonia',\n",
       "   'Guadeloupe',\n",
       "   'France',\n",
       "   'Poland',\n",
       "   'Nigeria',\n",
       "   'Greenland',\n",
       "   'Chile',\n",
       "   'Australia',\n",
       "   'Cook Islands',\n",
       "   'Bulgaria',\n",
       "   'Uruguay',\n",
       "   'Greece']),\n",
       " ('India', ['United States']),\n",
       " ('Marshall Islands', ['United States']),\n",
       " ('Paraguay', ['United States']),\n",
       " ('Gibraltar', ['United States']),\n",
       " ('Federated States of Micronesia', ['United States']),\n",
       " ('Netherlands', ['United States']),\n",
       " ('Angola', ['United States']),\n",
       " ('Anguilla', ['United States']),\n",
       " ('Ecuador', ['United States']),\n",
       " ('Cyprus', ['United States']),\n",
       " ('Portugal', ['United States']),\n",
       " ('Costa Rica', ['United States']),\n",
       " ('Guatemala', ['United States']),\n",
       " ('Suriname', ['United States']),\n",
       " ('Cape Verde', ['United States']),\n",
       " ('Palau', ['United States']),\n",
       " ('Venezuela', ['United States']),\n",
       " ('Finland', ['United States']),\n",
       " ('Greece', ['United States']),\n",
       " ('China', ['United States']),\n",
       " ('Vietnam', ['United States']),\n",
       " ('Kuwait', ['United States']),\n",
       " ('Poland', ['United States']),\n",
       " ('Estonia', ['United States']),\n",
       " ('South Korea', ['United States']),\n",
       " ('El Salvador', ['United States']),\n",
       " ('Hungary', ['United States']),\n",
       " ('Ethiopia', ['United States']),\n",
       " ('Aruba', ['United States']),\n",
       " ('Thailand', ['United States']),\n",
       " ('Pakistan', ['United States']),\n",
       " ('Honduras', ['United States']),\n",
       " ('Liberia', ['United States']),\n",
       " ('Ukraine', ['United States']),\n",
       " ('France', ['United States']),\n",
       " ('Norway', ['United States']),\n",
       " ('Kiribati', ['United States']),\n",
       " ('Mexico', ['United States']),\n",
       " ('Philippines', ['United States']),\n",
       " ('Belgium', ['United States']),\n",
       " ('Iceland', ['United States']),\n",
       " ('Argentina', ['United States']),\n",
       " ('Nigeria', ['United States']),\n",
       " ('Austria', ['United States']),\n",
       " ('Saint Lucia', ['United States']),\n",
       " ('Bahrain', ['United States']),\n",
       " ('British Virgin Islands', ['United States']),\n",
       " ('Denmark', ['United States']),\n",
       " ('Saudi Arabia', ['United States']),\n",
       " ('Curacao', ['United States']),\n",
       " ('South Africa', ['United States']),\n",
       " ('Switzerland', ['United States']),\n",
       " ('Brazil', ['United States']),\n",
       " ('Peru', ['United States']),\n",
       " ('Belize', ['United States']),\n",
       " ('Ghana', ['United States']),\n",
       " ('Fiji', ['United States']),\n",
       " ('French Polynesia', ['United States']),\n",
       " ('Latvia', ['United States']),\n",
       " ('Australia', ['United States']),\n",
       " ('Cook Islands', ['United States']),\n",
       " ('Uruguay', ['United States']),\n",
       " ('Bermuda', ['United States']),\n",
       " ('Montenegro', ['United States']),\n",
       " ('Barbados', ['United States']),\n",
       " ('Cayman Islands', ['United States']),\n",
       " ('Trinidad and Tobago', ['United States']),\n",
       " ('Saint Kitts and Nevis', ['United States']),\n",
       " ('Romania', ['United States']),\n",
       " ('Croatia', ['United States']),\n",
       " ('Singapore', ['United States']),\n",
       " ('Grenada', ['United States']),\n",
       " ('Sint Maarten', ['United States']),\n",
       " ('Russia', ['United States']),\n",
       " ('Senegal', ['United States']),\n",
       " ('Jamaica', ['United States']),\n",
       " ('Malaysia', ['United States']),\n",
       " ('Morocco', ['United States']),\n",
       " ('Samoa', ['United States']),\n",
       " ('Chile', ['United States']),\n",
       " ('The Bahamas', ['United States']),\n",
       " ('Hong Kong', ['United States']),\n",
       " ('Dominican Republic', ['United States']),\n",
       " ('Egypt', ['United States']),\n",
       " ('Luxembourg', ['United States']),\n",
       " ('Saint Barthelemy', ['United States']),\n",
       " ('Turkey', ['United States']),\n",
       " ('Azerbaijan', ['United States']),\n",
       " ('Panama', ['United States']),\n",
       " ('Turks and Caicos Islands', ['United States']),\n",
       " ('Malta', ['United States']),\n",
       " ('Lithuania', ['United States']),\n",
       " ('Guadeloupe', ['United States']),\n",
       " ('Germany', ['United States']),\n",
       " ('New Zealand', ['United States']),\n",
       " ('Sweden', ['United States']),\n",
       " ('Martinique', ['United States']),\n",
       " ('United Arab Emirates', ['United States'])]"
      ]
     },
     "execution_count": 24,
     "metadata": {},
     "output_type": "execute_result"
    }
   ],
   "source": [
    "edgesRDD =  arrRDD.map(lambda arr: (arr[1], arr[0]))\n",
    "edgesRDD.groupByKey().map(lambda pair: (pair[0],list(pair[1]))).take(100)\n"
   ]
  },
  {
   "cell_type": "markdown",
   "metadata": {},
   "source": [
    "## Pair RDDS - aggreation\n",
    "- reduceByKey"
   ]
  },
  {
   "cell_type": "code",
   "execution_count": 25,
   "metadata": {},
   "outputs": [
    {
     "data": {
      "text/plain": [
       "[('United States', 411293),\n",
       " ('Costa Rica', 588),\n",
       " ('Anguilla', 41),\n",
       " ('Algeria', 4),\n",
       " ('Pakistan', 12),\n",
       " ('Iceland', 181),\n",
       " ('Marshall Islands', 42),\n",
       " ('Honduras', 362),\n",
       " ('El Salvador', 561),\n",
       " ('Switzerland', 294)]"
      ]
     },
     "execution_count": 25,
     "metadata": {},
     "output_type": "execute_result"
    }
   ],
   "source": [
    "destRDD =  arrRDD.map(lambda arr: (arr[0], int(arr[2])))\n",
    "#originRDD =  arrRDD.map(lambda arr: (arr[1], int(arr[2])))\n",
    "\n",
    "destFreqRDD=destRDD.reduceByKey(lambda x,y: x+y)\n",
    "#originFreqRDD=originRDD.reduceByKey(lambda x,y: x+y)\n",
    "\n",
    "destFreqRDD.take(10)\n",
    "#originFreqRDD.take(10)\n"
   ]
  },
  {
   "cell_type": "markdown",
   "metadata": {},
   "source": [
    "## Pair RDDS - sorting"
   ]
  },
  {
   "cell_type": "code",
   "execution_count": 26,
   "metadata": {},
   "outputs": [
    {
     "data": {
      "text/plain": [
       "[(411293, 'United States'),\n",
       " (8399, 'Canada'),\n",
       " (7140, 'Mexico'),\n",
       " (2025, 'United Kingdom'),\n",
       " (1548, 'Japan'),\n",
       " (1468, 'Germany'),\n",
       " (1353, 'Dominican Republic'),\n",
       " (1048, 'South Korea'),\n",
       " (955, 'The Bahamas'),\n",
       " (935, 'France')]"
      ]
     },
     "execution_count": 26,
     "metadata": {},
     "output_type": "execute_result"
    }
   ],
   "source": [
    "result= destFreqRDD.map(lambda xy:(xy[1],xy[0])).sortByKey(ascending=False)\n",
    "result.take(10)"
   ]
  },
  {
   "cell_type": "code",
   "execution_count": 27,
   "metadata": {},
   "outputs": [
    {
     "data": {
      "image/png": "[encoded data removed]",
      "text/plain": [
       "<matplotlib.figure.Figure at 0x10dbb4ef0>"
      ]
     },
     "metadata": {},
     "output_type": "display_data"
    }
   ],
   "source": [
    "#plotting\n",
    "end = 10\n",
    "y  = result.keys().collect()[:end]\n",
    "x  =range(len(y))[:end]\n",
    "x_ticks_labels = result.values().collect()[:end]\n",
    "\n",
    "import matplotlib.pyplot as plt\n",
    "#%matplotlib notebook\n",
    "plt.clf()\n",
    "plt.plot(y)\n",
    "plt.xticks(x,x_ticks_labels,rotation='vertical', fontsize=12)\n",
    "plt.yscale(\"log\")\n",
    "plt.rcParams[\"figure.figsize\"] = [15,10]\n",
    "plt.show()"
   ]
  },
  {
   "cell_type": "markdown",
   "metadata": {},
   "source": [
    "## Joins\n",
    "- Always on pair RDDs\n",
    "- Happens betwen 2 pair RDDs having common key space"
   ]
  },
  {
   "cell_type": "code",
   "execution_count": 28,
   "metadata": {},
   "outputs": [
    {
     "data": {
      "text/plain": [
       "[('Philz', ('748 Van Ness Ave', 4.8)),\n",
       " ('Philz', ('3101 24th St', 4.8)),\n",
       " ('Ritual', ('1026 Valencia St', 4.9))]"
      ]
     },
     "execution_count": 28,
     "metadata": {},
     "output_type": "execute_result"
    }
   ],
   "source": [
    "storeAddress = [(\"Ritual\", \"1026 Valencia St\"), \n",
    "                (\"Philz\", \"748 Van Ness Ave\"),  \n",
    "                (\"Philz\", \"3101 24th St\"), \n",
    "                (\"Starbucks\", \"Seattle\")\n",
    "               ]\n",
    "\n",
    "storeRating = [\n",
    "  (\"Ritual\", 4.9),\n",
    "  (\"Philz\", 4.8)\n",
    "]\n",
    "\n",
    "addressRDD= sc.parallelize(storeAddress)\n",
    "ratingRDD= sc.parallelize(storeRating)\n",
    "joinedRDD= addressRDD.join(ratingRDD)\n",
    "\n",
    "joinedRDD.collect()\n"
   ]
  },
  {
   "cell_type": "code",
   "execution_count": 29,
   "metadata": {},
   "outputs": [
    {
     "data": {
      "text/plain": [
       "[('Philz', ('748 Van Ness Ave', 4.8)),\n",
       " ('Philz', ('3101 24th St', 4.8)),\n",
       " ('Starbucks', ('Seattle', None)),\n",
       " ('Ritual', ('1026 Valencia St', 4.9))]"
      ]
     },
     "execution_count": 29,
     "metadata": {},
     "output_type": "execute_result"
    }
   ],
   "source": [
    "leftJoinRDD= addressRDD.leftOuterJoin(ratingRDD)\n",
    "leftJoinRDD.collect()"
   ]
  },
  {
   "cell_type": "markdown",
   "metadata": {},
   "source": [
    "# Brodcast Variable\n",
    "- What?\n",
    "    - A variable stored im memory on each executor of the cluster\n",
    "    - Created by the driver and sent to the excutors\n",
    "- Why?\n",
    "    - Typically used to make a lookup table available on every executor instead of sending it in the code or as another RDD (map-side join)"
   ]
  },
  {
   "cell_type": "code",
   "execution_count": 31,
   "metadata": {},
   "outputs": [
    {
     "data": {
      "text/plain": [
       "[('sameh', 'research'), ('mahmoud', 'sales'), ('zaki', 'marketing')]"
      ]
     },
     "execution_count": 31,
     "metadata": {},
     "output_type": "execute_result"
    }
   ],
   "source": [
    "#implementing a join using broadcast\n",
    "Employees = [(1,\"sameh\"), (2,\"mahmoud\"), (3,\"zaki\")]\n",
    "Depts = [(1,\"research\"),\n",
    "         (2, \"sales\"),\n",
    "         (3, \"marketing\")\n",
    "        ]\n",
    "\n",
    "DeptsDict = {1:\"research\",\n",
    "             2:\"sales\",\n",
    "             3:\"marketing\"\n",
    "            }\n",
    "\n",
    "eRdd = sc.parallelize(Employees)\n",
    "dRdd = sc.parallelize(Depts)\n",
    "\n",
    "#eRdd.join(dRdd).collect()\n",
    "\n",
    "# result = eRdd.union(dRdd).groupByKey().collect()\n",
    "# for k,v in result:\n",
    "#     print(k,list(v))\n",
    "\n",
    "dvar = sc.broadcast(DeptsDict)\n",
    "\n",
    "eRdd.map(lambda e: (e[1], dvar.value[e[0]])).collect()\n",
    "\n",
    "#broadcastVar.value"
   ]
  },
  {
   "cell_type": "markdown",
   "metadata": {},
   "source": [
    "# Accumulators \n",
    "- what?\n",
    "    - Opposite of a broadcasst variable\n",
    "    - a mutable variable that executors can update accordingly\n",
    "    - You can see the update in the Spark UI.\n",
    "- why?\n",
    "    -Gather stats while doing another operation"
   ]
  },
  {
   "cell_type": "code",
   "execution_count": 32,
   "metadata": {},
   "outputs": [
    {
     "name": "stdout",
     "output_type": "stream",
     "text": [
      "[4, 4, 14, 24, 16, 180, 62, 6, 8]\n"
     ]
    },
    {
     "data": {
      "text/plain": [
       "(6, 3)"
      ]
     },
     "execution_count": 32,
     "metadata": {},
     "output_type": "execute_result"
    }
   ],
   "source": [
    "evenAcc = sc.accumulator(0)\n",
    "oddAcc = sc.accumulator(0)\n",
    "def hassanein(x):\n",
    "    if x % 2 == 0:\n",
    "        evenAcc.add(1)\n",
    "    else:\n",
    "        oddAcc.add(1)\n",
    "    return x*2\n",
    "\n",
    "result = sc.parallelize([2, 2,7, 12, 8, 90, 31, 3, 4]).map(hassanein).collect()\n",
    "print(result)\n",
    "(evenAcc.value, oddAcc.value)"
   ]
  },
  {
   "cell_type": "markdown",
   "metadata": {},
   "source": [
    "# MapPartitions/Coalesce/Repartition"
   ]
  },
  {
   "cell_type": "code",
   "execution_count": null,
   "metadata": {},
   "outputs": [],
   "source": [
    "import time\n",
    "\n",
    "nums = sc.parallelize(range(24),8)\n",
    "see(\"nums.getNumPartitions()\", nums.getNumPartitions())\n",
    "\n",
    "def heavyOperation():\n",
    "    ##e.g. writeToDB, http reqest,\n",
    "    time.sleep(1)\n",
    "\n",
    "def singleOp(x):\n",
    "    heavyOperation()\n",
    "    return x*2\n",
    "\n",
    "def multiOp(Xs):\n",
    "    heavyOperation()\n",
    "    return map(lambda x: x*2, Xs)\n",
    "\n",
    "\n",
    "%time y = nums.mapPartitions(multiOp).collect()\n",
    "%time y = nums.mapPartitions(multiOp).collect()\n",
    "%time y = nums.mapPartitions(multiOp).collect()\n",
    "\n",
    "%time x = nums.map(singleOp).collect()\n",
    "%time x = nums.map(singleOp).collect()\n",
    "%time x = nums.map(singleOp).collect()\n"
   ]
  },
  {
   "cell_type": "code",
   "execution_count": null,
   "metadata": {},
   "outputs": [],
   "source": [
    "#coalesce\n",
    "# -- can be used only to decreases\n",
    "# -- tries to avoid reshuffling\n",
    "nums = nums.coalesce(4)\n",
    "see(\"nums.getNumPartitions()\", nums.getNumPartitions())\n",
    "\n",
    "%time y = nums.mapPartitions(multiOp).collect()\n",
    "%time y = nums.mapPartitions(multiOp).collect()\n",
    "%time y = nums.mapPartitions(multiOp).collect()\n",
    "\n",
    "\n",
    "%time x = nums.map(singleOp).collect()\n",
    "%time x = nums.map(singleOp).collect()\n",
    "%time x = nums.map(singleOp).collect()"
   ]
  },
  {
   "cell_type": "code",
   "execution_count": null,
   "metadata": {},
   "outputs": [],
   "source": [
    "#repartition\n",
    "# -Can increase or decrease partition\n",
    "# -always reshuffles\n",
    "# -Load balances partitions\n",
    "\n",
    "nums = nums.repartition(24)\n",
    "see(\"nums.getNumPartitions()\", nums.getNumPartitions())\n",
    "\n",
    "%time y = nums.mapPartitions(multiOp).collect()\n",
    "%time y = nums.mapPartitions(multiOp).collect()\n",
    "%time y = nums.mapPartitions(multiOp).collect()\n",
    "\n",
    "\n",
    "%time x = nums.map(singleOp).collect()\n",
    "%time x = nums.map(singleOp).collect()\n",
    "%time x = nums.map(singleOp).collect()"
   ]
  },
  {
   "cell_type": "code",
   "execution_count": null,
   "metadata": {
    "collapsed": true
   },
   "outputs": [],
   "source": []
  }
 ],
 "metadata": {
  "celltoolbar": "Raw Cell Format",
  "kernelspec": {
   "display_name": "Python 3",
   "language": "python",
   "name": "python3"
  },
  "language_info": {
   "codemirror_mode": {
    "name": "ipython",
    "version": 3
   },
   "file_extension": ".py",
   "mimetype": "text/x-python",
   "name": "python",
   "nbconvert_exporter": "python",
   "pygments_lexer": "ipython3",
   "version": "3.6.2"
  }
 },
 "nbformat": 4,
 "nbformat_minor": 2
}
